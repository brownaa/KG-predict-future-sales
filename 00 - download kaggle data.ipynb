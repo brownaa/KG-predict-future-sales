{
 "cells": [
  {
   "cell_type": "markdown",
   "metadata": {},
   "source": [
    "# Downloading Data from Kaggle\n",
    "\n",
    "https://www.kaggle.com/c/competitive-data-science-predict-future-sales"
   ]
  },
  {
   "cell_type": "code",
   "execution_count": 1,
   "metadata": {},
   "outputs": [],
   "source": [
    "from pathlib import Path"
   ]
  },
  {
   "cell_type": "code",
   "execution_count": 2,
   "metadata": {
    "collapsed": true
   },
   "outputs": [
    {
     "name": "stdout",
     "output_type": "stream",
     "text": [
      "Downloading item_categories.csv to C:\\Users\\abrow\\Documents\\Kaggle Competitions\\Predict Future Sales\n",
      "\n",
      "Downloading items.csv to C:\\Users\\abrow\\Documents\\Kaggle Competitions\\Predict Future Sales\n",
      "\n",
      "Downloading shops.csv to C:\\Users\\abrow\\Documents\\Kaggle Competitions\\Predict Future Sales\n",
      "\n",
      "Downloading sample_submission.csv.gz to C:\\Users\\abrow\\Documents\\Kaggle Competitions\\Predict Future Sales\n",
      "\n",
      "Downloading test.csv.gz to C:\\Users\\abrow\\Documents\\Kaggle Competitions\\Predict Future Sales\n",
      "\n",
      "Downloading sales_train.csv.gz to C:\\Users\\abrow\\Documents\\Kaggle Competitions\\Predict Future Sales\n",
      "\n"
     ]
    },
    {
     "name": "stderr",
     "output_type": "stream",
     "text": [
      "\n",
      "  0%|          | 0.00/3.49k [00:00<?, ?B/s]\n",
      "100%|##########| 3.49k/3.49k [00:00<00:00, 1.78MB/s]\n",
      "\n",
      "  0%|          | 0.00/1.50M [00:00<?, ?B/s]\n",
      " 67%|######6   | 1.00M/1.50M [00:00<00:00, 1.84MB/s]\n",
      "100%|##########| 1.50M/1.50M [00:00<00:00, 2.43MB/s]\n",
      "\n",
      "  0%|          | 0.00/2.91k [00:00<?, ?B/s]\n",
      "100%|##########| 2.91k/2.91k [00:00<00:00, 993kB/s]\n",
      "\n",
      "  0%|          | 0.00/469k [00:00<?, ?B/s]\n",
      "100%|##########| 469k/469k [00:00<00:00, 25.2MB/s]\n",
      "\n",
      "  0%|          | 0.00/1.01M [00:00<?, ?B/s]\n",
      "100%|##########| 1.01M/1.01M [00:00<00:00, 10.5MB/s]\n",
      "\n",
      "  0%|          | 0.00/12.9M [00:00<?, ?B/s]\n",
      "  8%|7         | 1.00M/12.9M [00:00<00:01, 9.89MB/s]\n",
      " 23%|##3       | 3.00M/12.9M [00:00<00:01, 9.52MB/s]\n",
      " 39%|###8      | 5.00M/12.9M [00:00<00:00, 9.32MB/s]\n",
      " 54%|#####4    | 7.00M/12.9M [00:00<00:00, 9.16MB/s]\n",
      " 70%|######9   | 9.00M/12.9M [00:01<00:00, 9.68MB/s]\n",
      " 78%|#######7  | 10.0M/12.9M [00:01<00:00, 8.70MB/s]\n",
      " 93%|#########3| 12.0M/12.9M [00:01<00:00, 8.78MB/s]\n",
      "100%|##########| 12.9M/12.9M [00:01<00:00, 9.10MB/s]\n"
     ]
    }
   ],
   "source": [
    "! kaggle competitions download competitive-data-science-predict-future-sales"
   ]
  },
  {
   "cell_type": "code",
   "execution_count": 3,
   "metadata": {},
   "outputs": [
    {
     "name": "stdout",
     "output_type": "stream",
     "text": [
      "name                       size  creationDate         \n",
      "------------------------  -----  -------------------  \n",
      "item_categories.csv         3KB  2018-02-17 02:11:40  \n",
      "items.csv                   1MB  2018-02-17 02:11:46  \n",
      "shops.csv                   3KB  2018-02-17 02:11:56  \n",
      "sample_submission.csv.gz  469KB  2018-02-17 02:11:59  \n",
      "test.csv.gz                 1MB  2018-02-17 02:12:04  \n",
      "sales_train.csv.gz         13MB  2018-02-17 02:12:08  \n"
     ]
    }
   ],
   "source": [
    "! kaggle competitions files competitive-data-science-predict-future-sales"
   ]
  },
  {
   "cell_type": "code",
   "execution_count": 4,
   "metadata": {},
   "outputs": [],
   "source": [
    "files = ['item_categories.csv', 'items.csv', 'shops.csv', \n",
    "         'sample_submission.csv.gz', 'test.csv.gz', 'sales_train.csv.gz']"
   ]
  },
  {
   "cell_type": "code",
   "execution_count": 5,
   "metadata": {},
   "outputs": [],
   "source": [
    "wd = Path('data')\n",
    "wd.mkdir(parents=True, exist_ok=True)"
   ]
  },
  {
   "cell_type": "code",
   "execution_count": 6,
   "metadata": {},
   "outputs": [],
   "source": [
    "destination = [wd / file for file in files]"
   ]
  },
  {
   "cell_type": "code",
   "execution_count": 7,
   "metadata": {},
   "outputs": [],
   "source": [
    "source = [Path(file) for file in files]"
   ]
  },
  {
   "cell_type": "code",
   "execution_count": 8,
   "metadata": {},
   "outputs": [],
   "source": [
    "for i in range(len(source)):\n",
    "#     with destination[i].open(mode='xb') as fid:\n",
    "#         fid.write(source[i].read_bytes())\n",
    "    if not destination[i].exists():\n",
    "        source[i].replace(destination[i])"
   ]
  }
 ],
 "metadata": {
  "kernelspec": {
   "display_name": "Python 3",
   "language": "python",
   "name": "python3"
  },
  "language_info": {
   "codemirror_mode": {
    "name": "ipython",
    "version": 3
   },
   "file_extension": ".py",
   "mimetype": "text/x-python",
   "name": "python",
   "nbconvert_exporter": "python",
   "pygments_lexer": "ipython3",
   "version": "3.7.1"
  }
 },
 "nbformat": 4,
 "nbformat_minor": 2
}
